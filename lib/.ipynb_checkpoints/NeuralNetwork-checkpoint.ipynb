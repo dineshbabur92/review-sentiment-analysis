{
 "cells": [
  {
   "cell_type": "code",
   "execution_count": 16,
   "metadata": {
    "collapsed": false
   },
   "outputs": [
    {
     "name": "stdout",
     "output_type": "stream",
     "text": [
      "Loading and visualizing data\n"
     ]
    },
    {
     "data": {
      "text/plain": [
       "(5000, 1)"
      ]
     },
     "execution_count": 16,
     "metadata": {},
     "output_type": "execute_result"
    }
   ],
   "source": [
    "import numpy as np\n",
    "import scipy.io as spio;\n",
    "# class NeuralNetwork:\n",
    "#     def __init__(self, X, y, hiddenLayers):\n",
    "#         self.X = X;\n",
    "#         self.y = y;\n",
    "#         self.m = X.shape[0];\n",
    "#         self.n = X.shape[1];\n",
    "#         self.hiddenLayers = hiddenLayers\n",
    "#         self.theta = NeuralNetwork.initiliazeTheta(hiddenLayers, n);\n",
    "#         return;\n",
    "    \n",
    "#     def initilizeTheta(hiddenLayers, n):\n",
    "#         for i in hiddenLayers:\n",
    "            \n",
    "\n",
    "            \n",
    "print(\"Loading and visualizing data\");\n",
    "\n",
    "data1 = spio.loadmat(\"D:/Codes/machine learning coursera/ex4/ex4data1.mat\");\n",
    "X = data1[\"X\"];\n",
    "y = data1[\"y\"];\n",
    "\n",
    "    \n",
    "    \n",
    "    "
   ]
  }
 ],
 "metadata": {
  "kernelspec": {
   "display_name": "Python 3",
   "language": "python",
   "name": "python3"
  },
  "language_info": {
   "codemirror_mode": {
    "name": "ipython",
    "version": 3
   },
   "file_extension": ".py",
   "mimetype": "text/x-python",
   "name": "python",
   "nbconvert_exporter": "python",
   "pygments_lexer": "ipython3",
   "version": "3.6.0"
  }
 },
 "nbformat": 4,
 "nbformat_minor": 2
}
