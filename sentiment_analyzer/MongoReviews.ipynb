{
 "cells": [
  {
   "cell_type": "code",
   "execution_count": 86,
   "metadata": {
    "collapsed": false
   },
   "outputs": [
    {
     "name": "stdout",
     "output_type": "stream",
     "text": [
      "        index                             0\n",
      "0  good phone  58e9ed6afa9e66228c077024|HTC\n",
      "                         ProductName      Review\n",
      "ReviewId                                        \n",
      "58e9ed6afa9e66228c077024         HTC  good phone\n",
      "{'58e9ed6afa9e66228c077024': {'reviews': [{'content': 'good phone', 'sentiment': 'positive'}]}}\n"
     ]
    }
   ],
   "source": [
    "from pymongo import MongoClient\n",
    "import pandas as pd\n",
    "import json\n",
    "from bson import ObjectId\n",
    "\n",
    "\n",
    "    \n",
    "db = MongoClient(\"localhost\", 27017);\n",
    "    \n",
    "def getReviews():\n",
    "    products = db.test.products.find({}, { \"_id\": 1, \"name\":1, \"reviews.content\": 1} );\n",
    "    productsDf = pd.DataFrame(list(products));\n",
    "\n",
    "\n",
    "    productsDf = pd.concat(\n",
    "                [\n",
    "                    pd.Series(\n",
    "                        str(row[\"_id\"]) + \"|\" + row[\"name\"],\n",
    "                        [\n",
    "                            review[\"content\"] for review in row[\"reviews\"]\n",
    "                        ]\n",
    "                    ) for i, row in productsDf.iterrows()\n",
    "                ]\n",
    "            ).reset_index();\n",
    "\n",
    "\n",
    "#     print(productsDf);\n",
    "    productsDf.columns = [\"Review\", \"_id\"];\n",
    "\n",
    "    _id_split =pd.DataFrame(productsDf[\"_id\"].str.split(\"|\").tolist());\n",
    "    _id_split.columns = [\"ReviewId\", \"ProductName\"];\n",
    "    _id_split.set_index(\"ReviewId\");\n",
    "\n",
    "    del productsDf[\"_id\"];\n",
    "\n",
    "    productsDf = pd.concat([_id_split, productsDf], axis = 1);\n",
    "    productsDf = productsDf.set_index(\"ReviewId\");\n",
    "#     print(productsDf)\n",
    "    return productsDf;\n",
    "\n",
    "def putPredictions(predictions):\n",
    "    updateProducts = {};\n",
    "#     [['58e9ed6afa9e66228c077024', 'HTC', 'good phone', 'positive']]\n",
    "    for row in predictions:\n",
    "        productId = row[0];\n",
    "        productReview = row[2];\n",
    "        productReviewSentiment = row[3];\n",
    "        \n",
    "        if not productId in updateProducts:\n",
    "            updateProducts[productId] = {}\n",
    "            targetProduct = updateProducts[productId];\n",
    "            \n",
    "        if not \"reviews\" in targetProduct:\n",
    "            targetProduct[\"reviews\"] = []\n",
    "            targetProductReviews = targetProduct[\"reviews\"]\n",
    "            \n",
    "        targetProductReviews.append({\"content\" : productReview, \"sentiment\": productReviewSentiment});\n",
    "#     print(updateProducts)\n",
    "    for productId in updateProducts:\n",
    "        db.test.products.update_one({'_id':ObjectId(productId)}, {\"$set\": {\"reviews\" : updateProducts[productId][\"reviews\"]}}, upsert=False)\n",
    "    return updateProducts;\n",
    "    \n",
    "    \n",
    "getReviews()\n",
    "putPredictions([['58e9ed6afa9e66228c077024', 'HTC', 'good phone', 'positive']]);\n",
    "    \n"
   ]
  },
  {
   "cell_type": "code",
   "execution_count": null,
   "metadata": {
    "collapsed": true
   },
   "outputs": [],
   "source": []
  }
 ],
 "metadata": {
  "kernelspec": {
   "display_name": "Python 3",
   "language": "python",
   "name": "python3"
  },
  "language_info": {
   "codemirror_mode": {
    "name": "ipython",
    "version": 3
   },
   "file_extension": ".py",
   "mimetype": "text/x-python",
   "name": "python",
   "nbconvert_exporter": "python",
   "pygments_lexer": "ipython3",
   "version": "3.6.0"
  }
 },
 "nbformat": 4,
 "nbformat_minor": 2
}
