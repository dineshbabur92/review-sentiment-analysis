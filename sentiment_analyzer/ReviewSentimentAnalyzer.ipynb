{
 "cells": [
  {
   "cell_type": "code",
   "execution_count": 26,
   "metadata": {
    "collapsed": false
   },
   "outputs": [],
   "source": [
    "import os;\n",
    "\n",
    "import sys;\n",
    "sys.path.insert(0,os.getcwd() + '\\\\..\\\\lib');\n",
    "sys.path.insert(0,os.getcwd());\n",
    "# import inspect\n",
    "\n",
    "from Transform import GenTransform;\n",
    "from Regression import LogisticRegression;\n",
    "\n"
   ]
  },
  {
   "cell_type": "code",
   "execution_count": 27,
   "metadata": {
    "collapsed": false
   },
   "outputs": [
    {
     "name": "stdout",
     "output_type": "stream",
     "text": [
      "Warning: Desired error not necessarily achieved due to precision loss.\n",
      "         Current function value: 0.250319\n",
      "         Iterations: 50\n",
      "         Function evaluations: 119\n",
      "         Gradient evaluations: 107\n",
      "Warning: Desired error not necessarily achieved due to precision loss.\n",
      "         Current function value: 0.239073\n",
      "         Iterations: 34\n",
      "         Function evaluations: 150\n",
      "         Gradient evaluations: 138\n",
      "Warning: Desired error not necessarily achieved due to precision loss.\n",
      "         Current function value: 0.289704\n",
      "         Iterations: 38\n",
      "         Function evaluations: 131\n",
      "         Gradient evaluations: 119\n"
     ]
    }
   ],
   "source": [
    "import re;\n",
    "import pandas as pd;\n",
    "import numpy as np;\n",
    "import inspect;\n",
    "\n",
    "reviewsDf= pd.read_csv(os.getcwd() +\"\\\\datasets\\\\training.csv\", index_col=0, parse_dates=True);\n",
    "# reviewsDf\n",
    "wordFreq = dict();\n",
    "words = [];\n",
    "stopWords = [\"a\",\"about\",\"above\",\"after\",\"again\",\"against\",\"all\",\"am\",\"an\",\"and\",\"any\",\"are\",\"as\",\"at\",\n",
    "            \"be\",\"because\",\"been\",\"before\",\"being\",\"below\",\"between\",\"both\",\"but\",\"by\",\"could\",\"did\",\n",
    "            \"do\",\"does\",\"doing\",\"down\",\"during\",\"each\",\"few\",\"for\",\"from\",\"further\",\"had\",\"has\",\"have\",\n",
    "            \"having\",\"he\",\"he'd\",\"he'll\",\"he's\",\"her\",\"here\",\"here's\",\"hers\",\"herself\",\"him\",\"himself\",\n",
    "            \"his\",\"how\",\"how's\",\"i\",\"i'd\",\"i'll\",\"i'm\",\"i've\",\"if\",\"in\",\"into\",\"is\",\"it\",\"it's\",\"its\",\n",
    "            \"itself\",\"let's\",\"me\",\"more\",\"most\",\"my\",\"myself\",\"of\",\"off\",\"on\",\"once\",\"only\",\"or\",\"other\",\n",
    "            \"ought\",\"our\",\"ours\",\"ourselves\",\"out\",\"over\",\"own\",\"same\",\"she\",\"she'd\",\"she'll\",\"she's\",\n",
    "            \"should\",\"so\",\"some\",\"such\",\"than\",\"that\",\"that's\",\"the\",\"their\",\"theirs\",\"them\",\"themselves\",\n",
    "            \"then\",\"there\",\"there's\",\"these\",\"they\",\"they'd\",\"they'll\",\"they're\",\"they've\",\"this\",\"those\",\n",
    "            \"through\",\"to\",\"too\",\"under\",\"until\",\"up\",\"very\",\"was\",\"we\",\"we'd\",\"we'll\",\"we're\",\"we've\",\n",
    "            \"were\",\"what\",\"what's\",\"when\",\"when's\",\"where\",\"where's\",\"which\",\"while\",\"who\",\"who's\",\"whom\",\n",
    "            \"why\",\"why's\",\"with\",\"would\",\"you\",\"you'd\",\"you'll\",\"you're\",\"you've\",\"your\",\"yours\",\"yourself\",\n",
    "            \"yourselves\", \"htc\", \"iphone\", \"windows\"];\n",
    "\n",
    "reviews = reviewsDf.values[:,1];\n",
    "\n",
    "\n",
    "for review in reviews:\n",
    "    review = re.sub('[^0-9a-zA-Z ]+', '', review);\n",
    "    reviewWords = review.lower().strip().split(\" \");\n",
    "    for word in reviewWords:\n",
    "        if(not word in stopWords):\n",
    "            if(not word in wordFreq):\n",
    "                wordFreq[word] = 1;\n",
    "                words.append(word);\n",
    "                \n",
    "            else:\n",
    "                wordFreq[word] += 1;\n",
    "wordFreq.pop('', None);\n",
    "if '' in words: words.remove('');\n",
    "    \n",
    "wordFreq = sorted(wordFreq.items(), key=lambda x:x[1], reverse = True);\n",
    "count = 0;\n",
    "for key in wordFreq:\n",
    "    if key in words: words.remove(key);\n",
    "    count = count + 1;\n",
    "#     if(count==100):\n",
    "#         break;\n",
    "        \n",
    "for word in words:\n",
    "    reviewsDf[\"is_\" + word] = reviewsDf[\"Review\"].str.lower().str.contains(word) * 1\n",
    "\n",
    "reviewsDf = GenTransform.generateValueColumns(reviewsDf, [\"Sentiment\"]);\n",
    "reviewsDf.columns\n",
    "reviewsXColumns = [col for col in reviewsDf.columns if col not in ['positive', 'negative', 'neutral', 'ProductName', 'Review']]\n",
    "reviewsX = np.matrix(reviewsDf[reviewsXColumns]);\n",
    "\n",
    "\n",
    "\n",
    "sentiments = [\"positive\", \"negative\", \"neutral\"];\n",
    "sentimentTheta = [];\n",
    "i =0;\n",
    "\n",
    "for sentiment in sentiments:\n",
    "    reviewsy = np.transpose(np.matrix(reviewsDf[sentiment]));\n",
    "    reviewLrIns = LogisticRegression(reviewsX, reviewsy, 0.5);\n",
    "    theta, fminOutput = reviewLrIns.buildModel();\n",
    "    sentimentTheta.append(theta);\n",
    "    i = i+1;"
   ]
  },
  {
   "cell_type": "code",
   "execution_count": 28,
   "metadata": {
    "collapsed": false
   },
   "outputs": [
    {
     "name": "stdout",
     "output_type": "stream",
     "text": [
      "[['58e9efd543080021dc065ccc', 'HTC', 'good phone', 'positive'], ['58e9efd543080021dc065ccc', 'HTC', 'bad phone', 'negative'], ['58e9efd543080021dc065ccc', 'HTC', 'this is not a good phone', 'negative'], ['58e9efd543080021dc065ccc', 'HTC', 'i dont like this phone', 'negative'], ['58e9efd543080021dc065ccc', 'HTC', 'worst phone ever', 'negative'], ['58e9efd543080021dc065ccc', 'HTC', 'hate this phone', 'negative'], ['58e9efd543080021dc065ccc', 'HTC', 'dont buy this phone', 'negative'], ['58e9efd543080021dc065ccc', 'HTC', 'costly but good', 'neutral'], ['58e9efd543080021dc065ccc', 'HTC', 'never go with this', 'positive'], ['58e9efd543080021dc065ccc', 'HTC', 'best phone at this price range', 'positive'], ['58e9efd543080021dc065ccc', 'HTC', 'one of the worst phones', 'negative'], ['58e9efd543080021dc065ccd', 'Windows', 'dont buy this phone', 'negative'], ['58e9efd543080021dc065ccd', 'Windows', 'i dont like this phone', 'negative'], ['58e9efd543080021dc065ccd', 'Windows', 'good phone', 'positive'], ['58e9efd543080021dc065ccd', 'Windows', 'do not purchase this', 'negative'], ['58e9efd543080021dc065ccd', 'Windows', 'hate this product', 'positive'], ['58e9efd543080021dc065ccd', 'Windows', 'worst phone ever', 'negative'], ['58e9efd543080021dc065ccd', 'Windows', 'price too high but good phone', 'positive'], ['58e9efd543080021dc065ccd', 'Windows', 'costly but worth', 'neutral'], ['58e9efd543080021dc065cce', 'IPhone', 'i dont like this product', 'negative'], ['58e9efd543080021dc065cce', 'IPhone', 'good phone at this price range', 'positive']]\n",
      "Done with database updation, below are the updates: \n",
      "{'58e9efd543080021dc065ccc': {'reviews': [{'content': 'good phone', 'sentiment': 'positive'}, {'content': 'bad phone', 'sentiment': 'negative'}, {'content': 'this is not a good phone', 'sentiment': 'negative'}, {'content': 'i dont like this phone', 'sentiment': 'negative'}, {'content': 'worst phone ever', 'sentiment': 'negative'}, {'content': 'hate this phone', 'sentiment': 'negative'}, {'content': 'dont buy this phone', 'sentiment': 'negative'}, {'content': 'costly but good', 'sentiment': 'neutral'}, {'content': 'never go with this', 'sentiment': 'positive'}, {'content': 'best phone at this price range', 'sentiment': 'positive'}, {'content': 'one of the worst phones', 'sentiment': 'negative'}]}, '58e9efd543080021dc065ccd': {'reviews': [{'content': 'dont buy this phone', 'sentiment': 'negative'}, {'content': 'i dont like this phone', 'sentiment': 'negative'}, {'content': 'good phone', 'sentiment': 'positive'}, {'content': 'do not purchase this', 'sentiment': 'negative'}, {'content': 'hate this product', 'sentiment': 'positive'}, {'content': 'worst phone ever', 'sentiment': 'negative'}, {'content': 'price too high but good phone', 'sentiment': 'positive'}, {'content': 'costly but worth', 'sentiment': 'neutral'}]}, '58e9efd543080021dc065cce': {'reviews': [{'content': 'i dont like this product', 'sentiment': 'negative'}, {'content': 'good phone at this price range', 'sentiment': 'positive'}]}}\n"
     ]
    }
   ],
   "source": [
    "import MongoReviews;\n",
    "\n",
    "# testDf= pd.read_csv(os.getcwd() +\"\\\\datasets\\\\testing.csv\", index_col=0, parse_dates=True);\n",
    "testDf = MongoReviews.getReviews();\n",
    "\n",
    "# print(inspect(NewReviews.getNewReviews));\n",
    "\n",
    "for word in words:\n",
    "    testDf[\"is_\" + word] = testDf[\"Review\"].str.lower().str.contains(word) * 1;\n",
    "testX = np.matrix(testDf[reviewsXColumns]);  \n",
    "\n",
    "predictionsSentiment = np.ones((len(testDf.index),1)) * -1;\n",
    "for theta in sentimentTheta:\n",
    "    predictedY = np.round(LogisticRegression.sigmoid(np.dot(LogisticRegression.addIntercept(testX),theta)));\n",
    "    predictionsSentiment = np.hstack([predictionsSentiment, predictedY]);\n",
    "\n",
    "sentimentIndices = np.subtract(np.argmax(predictionsSentiment, axis = 1), 1).flatten().tolist()[0]\n",
    "predictedSentiments = [];\n",
    "\n",
    "for i in sentimentIndices:\n",
    "    predictedSentiments.append(sentiments[i]);\n",
    "finalPredictedSentiments = pd.DataFrame(np.transpose(np.matrix(predictedSentiments)));\n",
    "finalPredictedSentiments.columns=[\"Sentiment\"]\n",
    "finalResults = pd.concat([MongoReviews.getReviews().reset_index(), finalPredictedSentiments], axis=1)\n",
    "# finalResults = finalResults.set_index(\"ReviewId\")\n",
    "\n",
    "finalResults.to_csv(os.getcwd() +\"\\\\datasets\\\\finalPredictedSentiments.csv\",\n",
    "                                sep=',');\n",
    "print(finalResults.values.tolist());\n",
    "updateProducts = MongoReviews.putPredictions(finalResults.values.tolist());\n",
    "print(\"Done with database updation, below are the updates: \");\n",
    "print(updateProducts);"
   ]
  }
 ],
 "metadata": {
  "kernelspec": {
   "display_name": "Python 3",
   "language": "python",
   "name": "python3"
  },
  "language_info": {
   "codemirror_mode": {
    "name": "ipython",
    "version": 3
   },
   "file_extension": ".py",
   "mimetype": "text/x-python",
   "name": "python",
   "nbconvert_exporter": "python",
   "pygments_lexer": "ipython3",
   "version": "3.6.0"
  }
 },
 "nbformat": 4,
 "nbformat_minor": 2
}
