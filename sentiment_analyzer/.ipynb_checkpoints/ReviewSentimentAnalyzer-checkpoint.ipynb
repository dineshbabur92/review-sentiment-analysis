{
 "cells": [
  {
   "cell_type": "code",
   "execution_count": 1,
   "metadata": {
    "collapsed": false
   },
   "outputs": [],
   "source": [
    "import os;\n",
    "\n",
    "import sys;\n",
    "sys.path.insert(0,os.getcwd() + '\\\\..\\\\lib');\n",
    "sys.path.insert(0,os.getcwd());\n",
    "# import inspect\n",
    "\n",
    "from Transform import GenTransform;\n",
    "from Regression import LogisticRegression;\n",
    "\n"
   ]
  },
  {
   "cell_type": "code",
   "execution_count": 4,
   "metadata": {
    "collapsed": false
   },
   "outputs": [
    {
     "ename": "UnicodeDecodeError",
     "evalue": "'utf-8' codec can't decode byte 0xa0 in position 0: invalid start byte",
     "output_type": "error",
     "traceback": [
      "\u001b[0;31m---------------------------------------------------------------------------\u001b[0m",
      "\u001b[0;31mUnicodeDecodeError\u001b[0m                        Traceback (most recent call last)",
      "\u001b[0;32m<ipython-input-4-65cb7ffc992a>\u001b[0m in \u001b[0;36m<module>\u001b[0;34m()\u001b[0m\n\u001b[1;32m      4\u001b[0m \u001b[1;32mimport\u001b[0m \u001b[0minspect\u001b[0m\u001b[1;33m;\u001b[0m\u001b[1;33m\u001b[0m\u001b[0m\n\u001b[1;32m      5\u001b[0m \u001b[1;33m\u001b[0m\u001b[0m\n\u001b[0;32m----> 6\u001b[0;31m \u001b[0mreviewsDf\u001b[0m\u001b[1;33m=\u001b[0m \u001b[0mpd\u001b[0m\u001b[1;33m.\u001b[0m\u001b[0mread_csv\u001b[0m\u001b[1;33m(\u001b[0m\u001b[0mos\u001b[0m\u001b[1;33m.\u001b[0m\u001b[0mgetcwd\u001b[0m\u001b[1;33m(\u001b[0m\u001b[1;33m)\u001b[0m \u001b[1;33m+\u001b[0m\u001b[1;34m\"\\\\datasets\\\\training.csv\"\u001b[0m\u001b[1;33m,\u001b[0m \u001b[0mindex_col\u001b[0m\u001b[1;33m=\u001b[0m\u001b[1;36m0\u001b[0m\u001b[1;33m,\u001b[0m \u001b[0mparse_dates\u001b[0m\u001b[1;33m=\u001b[0m\u001b[1;32mTrue\u001b[0m\u001b[1;33m)\u001b[0m\u001b[1;33m;\u001b[0m\u001b[1;33m\u001b[0m\u001b[0m\n\u001b[0m\u001b[1;32m      7\u001b[0m \u001b[1;31m# reviewsDf\u001b[0m\u001b[1;33m\u001b[0m\u001b[1;33m\u001b[0m\u001b[0m\n\u001b[1;32m      8\u001b[0m \u001b[0mwordFreq\u001b[0m \u001b[1;33m=\u001b[0m \u001b[0mdict\u001b[0m\u001b[1;33m(\u001b[0m\u001b[1;33m)\u001b[0m\u001b[1;33m;\u001b[0m\u001b[1;33m\u001b[0m\u001b[0m\n",
      "\u001b[0;32mC:\\ProgramData\\Anaconda3\\lib\\site-packages\\pandas\\io\\parsers.py\u001b[0m in \u001b[0;36mparser_f\u001b[0;34m(filepath_or_buffer, sep, delimiter, header, names, index_col, usecols, squeeze, prefix, mangle_dupe_cols, dtype, engine, converters, true_values, false_values, skipinitialspace, skiprows, nrows, na_values, keep_default_na, na_filter, verbose, skip_blank_lines, parse_dates, infer_datetime_format, keep_date_col, date_parser, dayfirst, iterator, chunksize, compression, thousands, decimal, lineterminator, quotechar, quoting, escapechar, comment, encoding, dialect, tupleize_cols, error_bad_lines, warn_bad_lines, skipfooter, skip_footer, doublequote, delim_whitespace, as_recarray, compact_ints, use_unsigned, low_memory, buffer_lines, memory_map, float_precision)\u001b[0m\n\u001b[1;32m    644\u001b[0m                     skip_blank_lines=skip_blank_lines)\n\u001b[1;32m    645\u001b[0m \u001b[1;33m\u001b[0m\u001b[0m\n\u001b[0;32m--> 646\u001b[0;31m         \u001b[1;32mreturn\u001b[0m \u001b[0m_read\u001b[0m\u001b[1;33m(\u001b[0m\u001b[0mfilepath_or_buffer\u001b[0m\u001b[1;33m,\u001b[0m \u001b[0mkwds\u001b[0m\u001b[1;33m)\u001b[0m\u001b[1;33m\u001b[0m\u001b[0m\n\u001b[0m\u001b[1;32m    647\u001b[0m \u001b[1;33m\u001b[0m\u001b[0m\n\u001b[1;32m    648\u001b[0m     \u001b[0mparser_f\u001b[0m\u001b[1;33m.\u001b[0m\u001b[0m__name__\u001b[0m \u001b[1;33m=\u001b[0m \u001b[0mname\u001b[0m\u001b[1;33m\u001b[0m\u001b[0m\n",
      "\u001b[0;32mC:\\ProgramData\\Anaconda3\\lib\\site-packages\\pandas\\io\\parsers.py\u001b[0m in \u001b[0;36m_read\u001b[0;34m(filepath_or_buffer, kwds)\u001b[0m\n\u001b[1;32m    399\u001b[0m         \u001b[1;32mreturn\u001b[0m \u001b[0mparser\u001b[0m\u001b[1;33m\u001b[0m\u001b[0m\n\u001b[1;32m    400\u001b[0m \u001b[1;33m\u001b[0m\u001b[0m\n\u001b[0;32m--> 401\u001b[0;31m     \u001b[0mdata\u001b[0m \u001b[1;33m=\u001b[0m \u001b[0mparser\u001b[0m\u001b[1;33m.\u001b[0m\u001b[0mread\u001b[0m\u001b[1;33m(\u001b[0m\u001b[1;33m)\u001b[0m\u001b[1;33m\u001b[0m\u001b[0m\n\u001b[0m\u001b[1;32m    402\u001b[0m     \u001b[0mparser\u001b[0m\u001b[1;33m.\u001b[0m\u001b[0mclose\u001b[0m\u001b[1;33m(\u001b[0m\u001b[1;33m)\u001b[0m\u001b[1;33m\u001b[0m\u001b[0m\n\u001b[1;32m    403\u001b[0m     \u001b[1;32mreturn\u001b[0m \u001b[0mdata\u001b[0m\u001b[1;33m\u001b[0m\u001b[0m\n",
      "\u001b[0;32mC:\\ProgramData\\Anaconda3\\lib\\site-packages\\pandas\\io\\parsers.py\u001b[0m in \u001b[0;36mread\u001b[0;34m(self, nrows)\u001b[0m\n\u001b[1;32m    937\u001b[0m                 \u001b[1;32mraise\u001b[0m \u001b[0mValueError\u001b[0m\u001b[1;33m(\u001b[0m\u001b[1;34m'skipfooter not supported for iteration'\u001b[0m\u001b[1;33m)\u001b[0m\u001b[1;33m\u001b[0m\u001b[0m\n\u001b[1;32m    938\u001b[0m \u001b[1;33m\u001b[0m\u001b[0m\n\u001b[0;32m--> 939\u001b[0;31m         \u001b[0mret\u001b[0m \u001b[1;33m=\u001b[0m \u001b[0mself\u001b[0m\u001b[1;33m.\u001b[0m\u001b[0m_engine\u001b[0m\u001b[1;33m.\u001b[0m\u001b[0mread\u001b[0m\u001b[1;33m(\u001b[0m\u001b[0mnrows\u001b[0m\u001b[1;33m)\u001b[0m\u001b[1;33m\u001b[0m\u001b[0m\n\u001b[0m\u001b[1;32m    940\u001b[0m \u001b[1;33m\u001b[0m\u001b[0m\n\u001b[1;32m    941\u001b[0m         \u001b[1;32mif\u001b[0m \u001b[0mself\u001b[0m\u001b[1;33m.\u001b[0m\u001b[0moptions\u001b[0m\u001b[1;33m.\u001b[0m\u001b[0mget\u001b[0m\u001b[1;33m(\u001b[0m\u001b[1;34m'as_recarray'\u001b[0m\u001b[1;33m)\u001b[0m\u001b[1;33m:\u001b[0m\u001b[1;33m\u001b[0m\u001b[0m\n",
      "\u001b[0;32mC:\\ProgramData\\Anaconda3\\lib\\site-packages\\pandas\\io\\parsers.py\u001b[0m in \u001b[0;36mread\u001b[0;34m(self, nrows)\u001b[0m\n\u001b[1;32m   1506\u001b[0m     \u001b[1;32mdef\u001b[0m \u001b[0mread\u001b[0m\u001b[1;33m(\u001b[0m\u001b[0mself\u001b[0m\u001b[1;33m,\u001b[0m \u001b[0mnrows\u001b[0m\u001b[1;33m=\u001b[0m\u001b[1;32mNone\u001b[0m\u001b[1;33m)\u001b[0m\u001b[1;33m:\u001b[0m\u001b[1;33m\u001b[0m\u001b[0m\n\u001b[1;32m   1507\u001b[0m         \u001b[1;32mtry\u001b[0m\u001b[1;33m:\u001b[0m\u001b[1;33m\u001b[0m\u001b[0m\n\u001b[0;32m-> 1508\u001b[0;31m             \u001b[0mdata\u001b[0m \u001b[1;33m=\u001b[0m \u001b[0mself\u001b[0m\u001b[1;33m.\u001b[0m\u001b[0m_reader\u001b[0m\u001b[1;33m.\u001b[0m\u001b[0mread\u001b[0m\u001b[1;33m(\u001b[0m\u001b[0mnrows\u001b[0m\u001b[1;33m)\u001b[0m\u001b[1;33m\u001b[0m\u001b[0m\n\u001b[0m\u001b[1;32m   1509\u001b[0m         \u001b[1;32mexcept\u001b[0m \u001b[0mStopIteration\u001b[0m\u001b[1;33m:\u001b[0m\u001b[1;33m\u001b[0m\u001b[0m\n\u001b[1;32m   1510\u001b[0m             \u001b[1;32mif\u001b[0m \u001b[0mself\u001b[0m\u001b[1;33m.\u001b[0m\u001b[0m_first_chunk\u001b[0m\u001b[1;33m:\u001b[0m\u001b[1;33m\u001b[0m\u001b[0m\n",
      "\u001b[0;32mpandas\\parser.pyx\u001b[0m in \u001b[0;36mpandas.parser.TextReader.read (pandas\\parser.c:10415)\u001b[0;34m()\u001b[0m\n",
      "\u001b[0;32mpandas\\parser.pyx\u001b[0m in \u001b[0;36mpandas.parser.TextReader._read_low_memory (pandas\\parser.c:10691)\u001b[0;34m()\u001b[0m\n",
      "\u001b[0;32mpandas\\parser.pyx\u001b[0m in \u001b[0;36mpandas.parser.TextReader._read_rows (pandas\\parser.c:11728)\u001b[0;34m()\u001b[0m\n",
      "\u001b[0;32mpandas\\parser.pyx\u001b[0m in \u001b[0;36mpandas.parser.TextReader._convert_column_data (pandas\\parser.c:13162)\u001b[0;34m()\u001b[0m\n",
      "\u001b[0;32mpandas\\parser.pyx\u001b[0m in \u001b[0;36mpandas.parser.TextReader._convert_tokens (pandas\\parser.c:14116)\u001b[0;34m()\u001b[0m\n",
      "\u001b[0;32mpandas\\parser.pyx\u001b[0m in \u001b[0;36mpandas.parser.TextReader._convert_with_dtype (pandas\\parser.c:16172)\u001b[0;34m()\u001b[0m\n",
      "\u001b[0;32mpandas\\parser.pyx\u001b[0m in \u001b[0;36mpandas.parser.TextReader._string_convert (pandas\\parser.c:16400)\u001b[0;34m()\u001b[0m\n",
      "\u001b[0;32mpandas\\parser.pyx\u001b[0m in \u001b[0;36mpandas.parser._string_box_utf8 (pandas\\parser.c:22072)\u001b[0;34m()\u001b[0m\n",
      "\u001b[0;31mUnicodeDecodeError\u001b[0m: 'utf-8' codec can't decode byte 0xa0 in position 0: invalid start byte"
     ]
    }
   ],
   "source": [
    "import re;\n",
    "import pandas as pd;\n",
    "import numpy as np;\n",
    "import inspect;\n",
    "\n",
    "reviewsDf= pd.read_csv(os.getcwd() +\"\\\\datasets\\\\training.csv\", index_col=0, parse_dates=True, nrows= 100);\n",
    "# reviewsDf\n",
    "wordFreq = dict();\n",
    "words = [];\n",
    "stopWords = [\"a\",\"about\",\"above\",\"after\",\"again\",\"against\",\"all\",\"am\",\"an\",\"and\",\"any\",\"are\",\"as\",\"at\",\n",
    "            \"be\",\"because\",\"been\",\"before\",\"being\",\"below\",\"between\",\"both\",\"but\",\"by\",\"could\",\"did\",\n",
    "            \"do\",\"does\",\"doing\",\"down\",\"during\",\"each\",\"few\",\"for\",\"from\",\"further\",\"had\",\"has\",\"have\",\n",
    "            \"having\",\"he\",\"he'd\",\"he'll\",\"he's\",\"her\",\"here\",\"here's\",\"hers\",\"herself\",\"him\",\"himself\",\n",
    "            \"his\",\"how\",\"how's\",\"i\",\"i'd\",\"i'll\",\"i'm\",\"i've\",\"if\",\"in\",\"into\",\"is\",\"it\",\"it's\",\"its\",\n",
    "            \"itself\",\"let's\",\"me\",\"more\",\"most\",\"my\",\"myself\",\"of\",\"off\",\"on\",\"once\",\"only\",\"or\",\"other\",\n",
    "            \"ought\",\"our\",\"ours\",\"ourselves\",\"out\",\"over\",\"own\",\"same\",\"she\",\"she'd\",\"she'll\",\"she's\",\n",
    "            \"should\",\"so\",\"some\",\"such\",\"than\",\"that\",\"that's\",\"the\",\"their\",\"theirs\",\"them\",\"themselves\",\n",
    "            \"then\",\"there\",\"there's\",\"these\",\"they\",\"they'd\",\"they'll\",\"they're\",\"they've\",\"this\",\"those\",\n",
    "            \"through\",\"to\",\"too\",\"under\",\"until\",\"up\",\"very\",\"was\",\"we\",\"we'd\",\"we'll\",\"we're\",\"we've\",\n",
    "            \"were\",\"what\",\"what's\",\"when\",\"when's\",\"where\",\"where's\",\"which\",\"while\",\"who\",\"who's\",\"whom\",\n",
    "            \"why\",\"why's\",\"with\",\"would\",\"you\",\"you'd\",\"you'll\",\"you're\",\"you've\",\"your\",\"yours\",\"yourself\",\n",
    "            \"yourselves\", \"htc\", \"iphone\", \"windows\"];\n",
    "\n",
    "reviews = reviewsDf.values[:,1];\n",
    "\n",
    "\n",
    "for review in reviews:\n",
    "    review = re.sub('[^0-9a-zA-Z ]+', '', review);\n",
    "    reviewWords = review.lower().strip().split(\" \");\n",
    "    for word in reviewWords:\n",
    "        if(not word in stopWords):\n",
    "            if(not word in wordFreq):\n",
    "                wordFreq[word] = 1;\n",
    "                words.append(word);\n",
    "                \n",
    "            else:\n",
    "                wordFreq[word] += 1;\n",
    "wordFreq.pop('', None);\n",
    "if '' in words: words.remove('');\n",
    "    \n",
    "wordFreq = sorted(wordFreq.items(), key=lambda x:x[1], reverse = True);\n",
    "count = 0;\n",
    "for key in wordFreq:\n",
    "    if key in words: words.remove(key);\n",
    "    count = count + 1;\n",
    "#     if(count==100):\n",
    "#         break;\n",
    "        \n",
    "for word in words:\n",
    "    reviewsDf[\"is_\" + word] = reviewsDf[\"Review\"].str.lower().str.contains(word) * 1\n",
    "\n",
    "reviewsDf = GenTransform.generateValueColumns(reviewsDf, [\"Sentiment\"]);\n",
    "reviewsDf.columns\n",
    "reviewsXColumns = [col for col in reviewsDf.columns if col not in ['positive', 'negative', 'neutral', 'ProductName', 'Review']]\n",
    "reviewsX = np.matrix(reviewsDf[reviewsXColumns]);\n",
    "\n",
    "\n",
    "\n",
    "sentiments = [\"positive\", \"negative\", \"neutral\"];\n",
    "sentimentTheta = [];\n",
    "i =0;\n",
    "\n",
    "for sentiment in sentiments:\n",
    "    reviewsy = np.transpose(np.matrix(reviewsDf[sentiment]));\n",
    "    reviewLrIns = LogisticRegression(reviewsX, reviewsy, 0.5);\n",
    "    theta, fminOutput = reviewLrIns.buildModel();\n",
    "    sentimentTheta.append(theta);\n",
    "    i = i+1;"
   ]
  },
  {
   "cell_type": "code",
   "execution_count": 17,
   "metadata": {
    "collapsed": false
   },
   "outputs": [
    {
     "name": "stdout",
     "output_type": "stream",
     "text": [
      "[['58e9efd543080021dc065ccc', 'HTC', 'good phone', 'positive'], ['58e9efd543080021dc065ccc', 'HTC', 'bad phone', 'negative'], ['58e9efd543080021dc065ccc', 'HTC', 'this is not a good phone', 'positive'], ['58e9efd543080021dc065ccc', 'HTC', 'i dont like this phone', 'negative'], ['58e9efd543080021dc065ccc', 'HTC', 'worst phone ever', 'positive'], ['58e9efd543080021dc065ccc', 'HTC', 'hate this phone', 'positive'], ['58e9efd543080021dc065ccc', 'HTC', 'dont buy this phone', 'negative'], ['58e9efd543080021dc065ccd', 'Windows', 'dont buy this phone', 'negative'], ['58e9efd543080021dc065ccd', 'Windows', 'i dont like this phone', 'negative'], ['58e9efd543080021dc065ccd', 'Windows', 'good phone', 'positive'], ['58e9efd543080021dc065ccd', 'Windows', 'do not purchase this', 'negative'], ['58e9efd543080021dc065ccd', 'Windows', 'hate this product', 'positive'], ['58e9efd543080021dc065ccd', 'Windows', 'worst phone ever', 'positive'], ['58e9efd543080021dc065ccd', 'Windows', 'price too high but good phone', 'positive'], ['58e9efd543080021dc065ccd', 'Windows', 'costly but worth', 'negative']]\n",
      "Done with database updation, below are the updates: \n",
      "{'58e9efd543080021dc065ccc': {'reviews': [{'content': 'good phone', 'sentiment': 'positive'}, {'content': 'bad phone', 'sentiment': 'negative'}, {'content': 'this is not a good phone', 'sentiment': 'positive'}, {'content': 'i dont like this phone', 'sentiment': 'negative'}, {'content': 'worst phone ever', 'sentiment': 'positive'}, {'content': 'hate this phone', 'sentiment': 'positive'}, {'content': 'dont buy this phone', 'sentiment': 'negative'}]}, '58e9efd543080021dc065ccd': {'reviews': [{'content': 'dont buy this phone', 'sentiment': 'negative'}, {'content': 'i dont like this phone', 'sentiment': 'negative'}, {'content': 'good phone', 'sentiment': 'positive'}, {'content': 'do not purchase this', 'sentiment': 'negative'}, {'content': 'hate this product', 'sentiment': 'positive'}, {'content': 'worst phone ever', 'sentiment': 'positive'}, {'content': 'price too high but good phone', 'sentiment': 'positive'}, {'content': 'costly but worth', 'sentiment': 'negative'}]}}\n"
     ]
    }
   ],
   "source": [
    "import MongoReviews;\n",
    "\n",
    "# testDf= pd.read_csv(os.getcwd() +\"\\\\datasets\\\\testing.csv\", index_col=0, parse_dates=True);\n",
    "testDf = MongoReviews.getReviews();\n",
    "\n",
    "# print(inspect(NewReviews.getNewReviews));\n",
    "\n",
    "for word in words:\n",
    "    testDf[\"is_\" + word] = testDf[\"Review\"].str.lower().str.contains(word) * 1;\n",
    "testX = np.matrix(testDf[reviewsXColumns]);  \n",
    "\n",
    "predictionsSentiment = np.ones((len(testDf.index),1)) * -1;\n",
    "for theta in sentimentTheta:\n",
    "    predictedY = np.round(LogisticRegression.sigmoid(np.dot(LogisticRegression.addIntercept(testX),theta)));\n",
    "    predictionsSentiment = np.hstack([predictionsSentiment, predictedY]);\n",
    "\n",
    "sentimentIndices = np.subtract(np.argmax(predictionsSentiment, axis = 1), 1).flatten().tolist()[0]\n",
    "predictedSentiments = [];\n",
    "\n",
    "for i in sentimentIndices:\n",
    "    predictedSentiments.append(sentiments[i]);\n",
    "finalPredictedSentiments = pd.DataFrame(np.transpose(np.matrix(predictedSentiments)));\n",
    "finalPredictedSentiments.columns=[\"Sentiment\"]\n",
    "finalResults = pd.concat([MongoReviews.getReviews().reset_index(), finalPredictedSentiments], axis=1)\n",
    "# finalResults = finalResults.set_index(\"ReviewId\")\n",
    "\n",
    "finalResults.to_csv(os.getcwd() +\"\\\\datasets\\\\finalPredictedSentiments.csv\",\n",
    "                                sep=',');\n",
    "print(finalResults.values.tolist());\n",
    "updateProducts = MongoReviews.putPredictions(finalResults.values.tolist());\n",
    "print(\"Done with database updation, below are the updates: \");\n",
    "print(updateProducts);"
   ]
  }
 ],
 "metadata": {
  "kernelspec": {
   "display_name": "Python 3",
   "language": "python",
   "name": "python3"
  },
  "language_info": {
   "codemirror_mode": {
    "name": "ipython",
    "version": 3
   },
   "file_extension": ".py",
   "mimetype": "text/x-python",
   "name": "python",
   "nbconvert_exporter": "python",
   "pygments_lexer": "ipython3",
   "version": "3.6.0"
  }
 },
 "nbformat": 4,
 "nbformat_minor": 2
}
